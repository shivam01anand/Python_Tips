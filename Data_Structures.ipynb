{
 "cells": [
  {
   "cell_type": "markdown",
   "source": [
    "1 length Tuple should be defined by , otherwise.."
   ],
   "metadata": {
    "collapsed": false,
    "pycharm": {
     "name": "#%% md\n"
    }
   }
  },
  {
   "cell_type": "code",
   "execution_count": 1,
   "metadata": {
    "collapsed": true
   },
   "outputs": [
    {
     "data": {
      "text/plain": "str"
     },
     "execution_count": 1,
     "metadata": {},
     "output_type": "execute_result"
    }
   ],
   "source": [
    "type(('5'))"
   ]
  },
  {
   "cell_type": "code",
   "execution_count": 2,
   "outputs": [
    {
     "data": {
      "text/plain": "tuple"
     },
     "execution_count": 2,
     "metadata": {},
     "output_type": "execute_result"
    }
   ],
   "source": [
    "type(('5',))"
   ],
   "metadata": {
    "collapsed": false,
    "pycharm": {
     "name": "#%%\n"
    }
   }
  },
  {
   "cell_type": "markdown",
   "source": [
    "Set, mutable collection of immutables, was defined after Dictionaries"
   ],
   "metadata": {
    "collapsed": false,
    "pycharm": {
     "name": "#%% md\n"
    }
   }
  },
  {
   "cell_type": "code",
   "execution_count": 3,
   "outputs": [
    {
     "data": {
      "text/plain": "dict"
     },
     "execution_count": 3,
     "metadata": {},
     "output_type": "execute_result"
    }
   ],
   "source": [
    "type({})"
   ],
   "metadata": {
    "collapsed": false,
    "pycharm": {
     "name": "#%%\n"
    }
   }
  },
  {
   "cell_type": "code",
   "execution_count": 4,
   "outputs": [
    {
     "data": {
      "text/plain": "set()"
     },
     "execution_count": 4,
     "metadata": {},
     "output_type": "execute_result"
    }
   ],
   "source": [
    "set()"
   ],
   "metadata": {
    "collapsed": false,
    "pycharm": {
     "name": "#%%\n"
    }
   }
  },
  {
   "cell_type": "markdown",
   "source": [
    "but if not dict, recognizes it as set"
   ],
   "metadata": {
    "collapsed": false,
    "pycharm": {
     "name": "#%% md\n"
    }
   }
  },
  {
   "cell_type": "code",
   "execution_count": 5,
   "outputs": [
    {
     "data": {
      "text/plain": "set"
     },
     "execution_count": 5,
     "metadata": {},
     "output_type": "execute_result"
    }
   ],
   "source": [
    "type({'hello'})"
   ],
   "metadata": {
    "collapsed": false,
    "pycharm": {
     "name": "#%%\n"
    }
   }
  },
  {
   "cell_type": "code",
   "execution_count": 6,
   "outputs": [
    {
     "data": {
      "text/plain": "{'5'}"
     },
     "execution_count": 6,
     "metadata": {},
     "output_type": "execute_result"
    }
   ],
   "source": [
    "set('55')"
   ],
   "metadata": {
    "collapsed": false,
    "pycharm": {
     "name": "#%%\n"
    }
   }
  },
  {
   "cell_type": "markdown",
   "source": [
    "if given iterable...iterates!"
   ],
   "metadata": {
    "collapsed": false,
    "pycharm": {
     "name": "#%% md\n"
    }
   }
  },
  {
   "cell_type": "code",
   "execution_count": 7,
   "outputs": [
    {
     "data": {
      "text/plain": "{'1', '5', '6'}"
     },
     "execution_count": 7,
     "metadata": {},
     "output_type": "execute_result"
    }
   ],
   "source": [
    "set('156')"
   ],
   "metadata": {
    "collapsed": false,
    "pycharm": {
     "name": "#%%\n"
    }
   }
  },
  {
   "cell_type": "code",
   "execution_count": 8,
   "outputs": [
    {
     "ename": "TypeError",
     "evalue": "'int' object is not iterable",
     "output_type": "error",
     "traceback": [
      "\u001B[1;31m---------------------------------------------------------------------------\u001B[0m",
      "\u001B[1;31mTypeError\u001B[0m                                 Traceback (most recent call last)",
      "\u001B[1;32m<ipython-input-8-8496e0a98fae>\u001B[0m in \u001B[0;36m<module>\u001B[1;34m\u001B[0m\n\u001B[1;32m----> 1\u001B[1;33m \u001B[0mset\u001B[0m\u001B[1;33m(\u001B[0m\u001B[1;36m156\u001B[0m\u001B[1;33m)\u001B[0m\u001B[1;33m\u001B[0m\u001B[1;33m\u001B[0m\u001B[0m\n\u001B[0m",
      "\u001B[1;31mTypeError\u001B[0m: 'int' object is not iterable"
     ]
    }
   ],
   "source": [
    "set(156)"
   ],
   "metadata": {
    "collapsed": false,
    "pycharm": {
     "name": "#%%\n"
    }
   }
  },
  {
   "cell_type": "markdown",
   "source": [
    "## dict\n",
    "\n",
    "Either Mapping explicit"
   ],
   "metadata": {
    "collapsed": false,
    "pycharm": {
     "name": "#%% md\n"
    }
   }
  },
  {
   "cell_type": "code",
   "execution_count": 9,
   "outputs": [
    {
     "data": {
      "text/plain": "{'A': 'B', 'C': 'D'}"
     },
     "execution_count": 9,
     "metadata": {},
     "output_type": "execute_result"
    }
   ],
   "source": [
    "{\"A\":'B',\"C\":'D'}"
   ],
   "metadata": {
    "collapsed": false,
    "pycharm": {
     "name": "#%%\n"
    }
   }
  },
  {
   "cell_type": "markdown",
   "source": [
    "or as key, value pairs as parameters to dict constructor i.e {} or dict"
   ],
   "metadata": {
    "collapsed": false,
    "pycharm": {
     "name": "#%% md\n"
    }
   }
  },
  {
   "cell_type": "code",
   "execution_count": 10,
   "outputs": [
    {
     "data": {
      "text/plain": "{'A': 'B', 'C': 'D'}"
     },
     "execution_count": 10,
     "metadata": {},
     "output_type": "execute_result"
    }
   ],
   "source": [
    "dict([('A',\"B\"),('C',\"D\")])"
   ],
   "metadata": {
    "collapsed": false,
    "pycharm": {
     "name": "#%%\n"
    }
   }
  },
  {
   "cell_type": "markdown",
   "source": [
    "The expression a is b evaluates to True, precisely when identifiers a and b are\n",
    "aliases for the same object."
   ],
   "metadata": {
    "collapsed": false,
    "pycharm": {
     "name": "#%% md\n"
    }
   }
  },
  {
   "cell_type": "code",
   "execution_count": 11,
   "outputs": [
    {
     "data": {
      "text/plain": "True"
     },
     "execution_count": 11,
     "metadata": {},
     "output_type": "execute_result"
    }
   ],
   "source": [
    "a = b = 1\n",
    "a == b"
   ],
   "metadata": {
    "collapsed": false,
    "pycharm": {
     "name": "#%%\n"
    }
   }
  },
  {
   "cell_type": "markdown",
   "source": [
    "as both reference same object"
   ],
   "metadata": {
    "collapsed": false,
    "pycharm": {
     "name": "#%% md\n"
    }
   }
  },
  {
   "cell_type": "code",
   "execution_count": 12,
   "outputs": [
    {
     "data": {
      "text/plain": "'0x7ffa2cae3720'"
     },
     "execution_count": 12,
     "metadata": {},
     "output_type": "execute_result"
    }
   ],
   "source": [
    "hex(id(a)) #id location, hex conversion"
   ],
   "metadata": {
    "collapsed": false,
    "pycharm": {
     "name": "#%%\n"
    }
   }
  },
  {
   "cell_type": "code",
   "execution_count": 13,
   "outputs": [
    {
     "data": {
      "text/plain": "'0x7ffa2cae3720'"
     },
     "execution_count": 13,
     "metadata": {},
     "output_type": "execute_result"
    }
   ],
   "source": [
    "hex(id(b))"
   ],
   "metadata": {
    "collapsed": false,
    "pycharm": {
     "name": "#%%\n"
    }
   }
  },
  {
   "cell_type": "markdown",
   "source": [
    "but.."
   ],
   "metadata": {
    "collapsed": false,
    "pycharm": {
     "name": "#%% md\n"
    }
   }
  },
  {
   "cell_type": "code",
   "execution_count": 14,
   "outputs": [
    {
     "ename": "NameError",
     "evalue": "name 'np' is not defined",
     "output_type": "error",
     "traceback": [
      "\u001B[1;31m---------------------------------------------------------------------------\u001B[0m",
      "\u001B[1;31mNameError\u001B[0m                                 Traceback (most recent call last)",
      "\u001B[1;32m<ipython-input-14-0285cb4df259>\u001B[0m in \u001B[0;36m<module>\u001B[1;34m\u001B[0m\n\u001B[1;32m----> 1\u001B[1;33m \u001B[0ma\u001B[0m \u001B[1;33m=\u001B[0m \u001B[0mb\u001B[0m \u001B[1;33m=\u001B[0m \u001B[0mnp\u001B[0m\u001B[1;33m.\u001B[0m\u001B[0mnan\u001B[0m\u001B[1;33m\u001B[0m\u001B[1;33m\u001B[0m\u001B[0m\n\u001B[0m\u001B[0;32m      2\u001B[0m \u001B[0ma\u001B[0m \u001B[1;33m==\u001B[0m \u001B[0mb\u001B[0m\u001B[1;33m\u001B[0m\u001B[1;33m\u001B[0m\u001B[0m\n",
      "\u001B[1;31mNameError\u001B[0m: name 'np' is not defined"
     ]
    }
   ],
   "source": [
    "a = b = np.nan\n",
    "a == b"
   ],
   "metadata": {
    "collapsed": false,
    "pycharm": {
     "name": "#%%\n"
    }
   }
  },
  {
   "cell_type": "markdown",
   "source": [
    "IEEE 754 specifies that NaN is not equal to anything, including other NaNs"
   ],
   "metadata": {
    "collapsed": false,
    "pycharm": {
     "name": "#%% md\n"
    }
   }
  },
  {
   "cell_type": "code",
   "execution_count": 15,
   "outputs": [
    {
     "data": {
      "text/plain": "True"
     },
     "execution_count": 15,
     "metadata": {},
     "output_type": "execute_result"
    }
   ],
   "source": [
    "a == a"
   ],
   "metadata": {
    "collapsed": false,
    "pycharm": {
     "name": "#%%\n"
    }
   }
  },
  {
   "cell_type": "markdown",
   "source": [
    "yet checking location in memory i.e are the objects diff?"
   ],
   "metadata": {
    "collapsed": false,
    "pycharm": {
     "name": "#%% md\n"
    }
   }
  },
  {
   "cell_type": "code",
   "execution_count": 16,
   "outputs": [
    {
     "data": {
      "text/plain": "140712468166432"
     },
     "execution_count": 16,
     "metadata": {},
     "output_type": "execute_result"
    }
   ],
   "source": [
    "(id(a))"
   ],
   "metadata": {
    "collapsed": false,
    "pycharm": {
     "name": "#%%\n"
    }
   }
  },
  {
   "cell_type": "code",
   "execution_count": 17,
   "outputs": [
    {
     "data": {
      "text/plain": "140712468166432"
     },
     "execution_count": 17,
     "metadata": {},
     "output_type": "execute_result"
    }
   ],
   "source": [
    "(id(b))"
   ],
   "metadata": {
    "collapsed": false,
    "pycharm": {
     "name": "#%%\n"
    }
   }
  },
  {
   "cell_type": "markdown",
   "source": [
    "recall - The expression a is b evaluates to True, precisely when identifiers a and b are\n",
    "aliases for the same object"
   ],
   "metadata": {
    "collapsed": false,
    "pycharm": {
     "name": "#%% md\n"
    }
   }
  },
  {
   "cell_type": "code",
   "execution_count": 18,
   "outputs": [
    {
     "data": {
      "text/plain": "True"
     },
     "execution_count": 18,
     "metadata": {},
     "output_type": "execute_result"
    }
   ],
   "source": [
    "a is a"
   ],
   "metadata": {
    "collapsed": false,
    "pycharm": {
     "name": "#%%\n"
    }
   }
  },
  {
   "cell_type": "code",
   "execution_count": 19,
   "outputs": [
    {
     "data": {
      "text/plain": "True"
     },
     "execution_count": 19,
     "metadata": {},
     "output_type": "execute_result"
    }
   ],
   "source": [
    "a is b"
   ],
   "metadata": {
    "collapsed": false,
    "pycharm": {
     "name": "#%%\n"
    }
   }
  },
  {
   "cell_type": "markdown",
   "source": [
    "The expression a == b tests a more general notion of\n",
    "equivalence. If identifiers a and b refer to the same object, thena == bshould also\n",
    "evaluate to True. Yet a == b also evaluates to True when the identifiers refer to\n",
    "different objects that happen to have values that are deemed equivalent. The precise\n",
    "notion of equivalence depends on the data type"
   ],
   "metadata": {
    "collapsed": false,
    "pycharm": {
     "name": "#%% md\n"
    }
   }
  },
  {
   "cell_type": "markdown",
   "source": [
    "use of is and is not should be reserved for situations in which it is necessary to detect true aliasing"
   ],
   "metadata": {
    "collapsed": false,
    "pycharm": {
     "name": "#%% md\n"
    }
   }
  },
  {
   "cell_type": "code",
   "execution_count": 20,
   "outputs": [
    {
     "data": {
      "text/plain": "5.4"
     },
     "execution_count": 20,
     "metadata": {},
     "output_type": "execute_result"
    }
   ],
   "source": [
    "54/10"
   ],
   "metadata": {
    "collapsed": false,
    "pycharm": {
     "name": "#%%\n"
    }
   }
  },
  {
   "cell_type": "code",
   "execution_count": 21,
   "outputs": [
    {
     "data": {
      "text/plain": "5"
     },
     "execution_count": 21,
     "metadata": {},
     "output_type": "execute_result"
    }
   ],
   "source": [
    "54//10"
   ],
   "metadata": {
    "collapsed": false,
    "pycharm": {
     "name": "#%%\n"
    }
   }
  },
  {
   "cell_type": "markdown",
   "source": [
    "int(x/y) == x//y"
   ],
   "metadata": {
    "collapsed": false,
    "pycharm": {
     "name": "#%% md\n"
    }
   }
  },
  {
   "cell_type": "code",
   "execution_count": 22,
   "outputs": [
    {
     "name": "stdout",
     "output_type": "stream",
     "text": [
      "A is not an int, ~ was the symbol for complemented\n"
     ]
    }
   ],
   "source": [
    "A= '5'\n",
    "if ~(type(A)==int):\n",
    "    print(\"A is not an int, ~ was the symbol for complemented\")"
   ],
   "metadata": {
    "collapsed": false,
    "pycharm": {
     "name": "#%%\n"
    }
   }
  },
  {
   "cell_type": "code",
   "execution_count": 23,
   "outputs": [],
   "source": [
    "alpha = [1,23]"
   ],
   "metadata": {
    "collapsed": false,
    "pycharm": {
     "name": "#%%\n"
    }
   }
  },
  {
   "cell_type": "code",
   "execution_count": 24,
   "outputs": [],
   "source": [
    "beta = alpha #alias"
   ],
   "metadata": {
    "collapsed": false,
    "pycharm": {
     "name": "#%%\n"
    }
   }
  },
  {
   "cell_type": "code",
   "execution_count": 25,
   "outputs": [],
   "source": [
    "beta += [2] #extend original list with two...so alpha also as both l0 identifiers"
   ],
   "metadata": {
    "collapsed": false,
    "pycharm": {
     "name": "#%%\n"
    }
   }
  },
  {
   "cell_type": "code",
   "execution_count": 26,
   "outputs": [
    {
     "data": {
      "text/plain": "[1, 23, 2]"
     },
     "execution_count": 26,
     "metadata": {},
     "output_type": "execute_result"
    }
   ],
   "source": [
    "beta"
   ],
   "metadata": {
    "collapsed": false,
    "pycharm": {
     "name": "#%%\n"
    }
   }
  },
  {
   "cell_type": "code",
   "execution_count": 27,
   "outputs": [
    {
     "data": {
      "text/plain": "[1, 23, 2]"
     },
     "execution_count": 27,
     "metadata": {},
     "output_type": "execute_result"
    }
   ],
   "source": [
    "alpha"
   ],
   "metadata": {
    "collapsed": false,
    "pycharm": {
     "name": "#%%\n"
    }
   }
  },
  {
   "cell_type": "code",
   "execution_count": 28,
   "outputs": [
    {
     "data": {
      "text/plain": "2077745929856"
     },
     "execution_count": 28,
     "metadata": {},
     "output_type": "execute_result"
    }
   ],
   "source": [
    "id(beta)"
   ],
   "metadata": {
    "collapsed": false,
    "pycharm": {
     "name": "#%%\n"
    }
   }
  },
  {
   "cell_type": "code",
   "execution_count": 29,
   "outputs": [
    {
     "data": {
      "text/plain": "2077745929856"
     },
     "execution_count": 29,
     "metadata": {},
     "output_type": "execute_result"
    }
   ],
   "source": [
    "id(alpha)"
   ],
   "metadata": {
    "collapsed": false,
    "pycharm": {
     "name": "#%%\n"
    }
   }
  },
  {
   "cell_type": "markdown",
   "source": [
    "but"
   ],
   "metadata": {
    "collapsed": false,
    "pycharm": {
     "name": "#%% md\n"
    }
   }
  },
  {
   "cell_type": "code",
   "execution_count": 30,
   "outputs": [],
   "source": [
    "beta = beta + [2] #= defines new..ie l1 identifier..identifier of identifier references something else.."
   ],
   "metadata": {
    "collapsed": false,
    "pycharm": {
     "name": "#%%\n"
    }
   }
  },
  {
   "cell_type": "markdown",
   "source": [
    "id(beta)"
   ],
   "metadata": {
    "collapsed": false,
    "pycharm": {
     "name": "#%% md\n"
    }
   }
  },
  {
   "cell_type": "markdown",
   "source": [
    "# changed!"
   ],
   "metadata": {
    "collapsed": false,
    "pycharm": {
     "name": "#%% md\n"
    }
   }
  },
  {
   "cell_type": "markdown",
   "source": [
    "Hence, alpha will stay.."
   ],
   "metadata": {
    "collapsed": false,
    "pycharm": {
     "name": "#%% md\n"
    }
   }
  },
  {
   "cell_type": "code",
   "source": [
    "alpha"
   ],
   "metadata": {
    "collapsed": false,
    "pycharm": {
     "name": "#%%\n"
    }
   },
   "execution_count": 31,
   "outputs": [
    {
     "data": {
      "text/plain": "[1, 23, 2]"
     },
     "execution_count": 31,
     "metadata": {},
     "output_type": "execute_result"
    }
   ]
  },
  {
   "cell_type": "code",
   "execution_count": 32,
   "outputs": [
    {
     "data": {
      "text/plain": "[1, 23, 2, 2]"
     },
     "execution_count": 32,
     "metadata": {},
     "output_type": "execute_result"
    }
   ],
   "source": [
    "beta"
   ],
   "metadata": {
    "collapsed": false,
    "pycharm": {
     "name": "#%%\n"
    }
   }
  },
  {
   "cell_type": "markdown",
   "source": [
    "### always extend as new objects/identifiers aren't being created. merely extending l0's object (PS: l1.extend(l2) is actual extend syntax..but that can only take iterable"
   ],
   "metadata": {
    "collapsed": false,
    "pycharm": {
     "name": "#%% md\n"
    }
   }
  },
  {
   "cell_type": "code",
   "execution_count": 33,
   "outputs": [
    {
     "name": "stdout",
     "output_type": "stream",
     "text": [
      "Wall time: 195 ms\n"
     ]
    }
   ],
   "source": [
    "%%time\n",
    "l1=[1,2,3]\n",
    "while len(l1)<10000000:\n",
    "    l1.extend(l1)"
   ],
   "metadata": {
    "collapsed": false,
    "pycharm": {
     "name": "#%%\n"
    }
   }
  },
  {
   "cell_type": "code",
   "execution_count": 34,
   "outputs": [
    {
     "data": {
      "text/plain": "[1,\n 2,\n 3,\n 1,\n 2,\n 3,\n 1,\n 2,\n 3,\n 1,\n 2,\n 3,\n 1,\n 2,\n 3,\n 1,\n 2,\n 3,\n 1,\n 2,\n 3,\n 1,\n 2,\n 3,\n 1,\n 2,\n 3,\n 1,\n 2,\n 3,\n 1,\n 2,\n 3,\n 1,\n 2,\n 3,\n 1,\n 2,\n 3,\n 1,\n 2,\n 3,\n 1,\n 2,\n 3,\n 1,\n 2,\n 3,\n 1,\n 2,\n 3,\n 1,\n 2,\n 3,\n 1,\n 2,\n 3,\n 1,\n 2,\n 3,\n 1,\n 2,\n 3,\n 1,\n 2,\n 3,\n 1,\n 2,\n 3,\n 1,\n 2,\n 3,\n 1,\n 2,\n 3,\n 1,\n 2,\n 3,\n 1,\n 2,\n 3,\n 1,\n 2,\n 3,\n 1,\n 2,\n 3,\n 1,\n 2,\n 3,\n 1,\n 2,\n 3,\n 1,\n 2,\n 3,\n 1,\n 2,\n 3,\n 1,\n 2,\n 3,\n 1,\n 2,\n 3,\n 1,\n 2,\n 3,\n 1,\n 2,\n 3,\n 1,\n 2,\n 3,\n 1,\n 2,\n 3,\n 1,\n 2,\n 3,\n 1,\n 2,\n 3,\n 1,\n 2,\n 3,\n 1,\n 2,\n 3,\n 1,\n 2,\n 3,\n 1,\n 2,\n 3,\n 1,\n 2,\n 3,\n 1,\n 2,\n 3,\n 1,\n 2,\n 3,\n 1,\n 2,\n 3,\n 1,\n 2,\n 3,\n 1,\n 2,\n 3,\n 1,\n 2,\n 3,\n 1,\n 2,\n 3,\n 1,\n 2,\n 3,\n 1,\n 2,\n 3,\n 1,\n 2,\n 3,\n 1,\n 2,\n 3,\n 1,\n 2,\n 3,\n 1,\n 2,\n 3,\n 1,\n 2,\n 3,\n 1,\n 2,\n 3,\n 1,\n 2,\n 3,\n 1,\n 2,\n 3,\n 1,\n 2,\n 3,\n 1,\n 2,\n 3,\n 1,\n 2,\n 3,\n 1,\n 2,\n 3,\n 1,\n 2,\n 3,\n 1,\n 2,\n 3,\n 1,\n 2,\n 3,\n 1,\n 2,\n 3,\n 1,\n 2,\n 3,\n 1,\n 2,\n 3,\n 1,\n 2,\n 3,\n 1,\n 2,\n 3,\n 1,\n 2,\n 3,\n 1,\n 2,\n 3,\n 1,\n 2,\n 3,\n 1,\n 2,\n 3,\n 1,\n 2,\n 3,\n 1,\n 2,\n 3,\n 1,\n 2,\n 3,\n 1,\n 2,\n 3,\n 1,\n 2,\n 3,\n 1,\n 2,\n 3,\n 1,\n 2,\n 3,\n 1,\n 2,\n 3,\n 1,\n 2,\n 3,\n 1,\n 2,\n 3,\n 1,\n 2,\n 3,\n 1,\n 2,\n 3,\n 1,\n 2,\n 3,\n 1,\n 2,\n 3,\n 1,\n 2,\n 3,\n 1,\n 2,\n 3,\n 1,\n 2,\n 3,\n 1,\n 2,\n 3,\n 1,\n 2,\n 3,\n 1,\n 2,\n 3,\n 1,\n 2,\n 3,\n 1,\n 2,\n 3,\n 1,\n 2,\n 3,\n 1,\n 2,\n 3,\n 1,\n 2,\n 3,\n 1,\n 2,\n 3,\n 1,\n 2,\n 3,\n 1,\n 2,\n 3,\n 1,\n 2,\n 3,\n 1,\n 2,\n 3,\n 1,\n 2,\n 3,\n 1,\n 2,\n 3,\n 1,\n 2,\n 3,\n 1,\n 2,\n 3,\n 1,\n 2,\n 3,\n 1,\n 2,\n 3,\n 1,\n 2,\n 3,\n 1,\n 2,\n 3,\n 1,\n 2,\n 3,\n 1,\n 2,\n 3,\n 1,\n 2,\n 3,\n 1,\n 2,\n 3,\n 1,\n 2,\n 3,\n 1,\n 2,\n 3,\n 1,\n 2,\n 3,\n 1,\n 2,\n 3,\n 1,\n 2,\n 3,\n 1,\n 2,\n 3,\n 1,\n 2,\n 3,\n 1,\n 2,\n 3,\n 1,\n 2,\n 3,\n 1,\n 2,\n 3,\n 1,\n 2,\n 3,\n 1,\n 2,\n 3,\n 1,\n 2,\n 3,\n 1,\n 2,\n 3,\n 1,\n 2,\n 3,\n 1,\n 2,\n 3,\n 1,\n 2,\n 3,\n 1,\n 2,\n 3,\n 1,\n 2,\n 3,\n 1,\n 2,\n 3,\n 1,\n 2,\n 3,\n 1,\n 2,\n 3,\n 1,\n 2,\n 3,\n 1,\n 2,\n 3,\n 1,\n 2,\n 3,\n 1,\n 2,\n 3,\n 1,\n 2,\n 3,\n 1,\n 2,\n 3,\n 1,\n 2,\n 3,\n 1,\n 2,\n 3,\n 1,\n 2,\n 3,\n 1,\n 2,\n 3,\n 1,\n 2,\n 3,\n 1,\n 2,\n 3,\n 1,\n 2,\n 3,\n 1,\n 2,\n 3,\n 1,\n 2,\n 3,\n 1,\n 2,\n 3,\n 1,\n 2,\n 3,\n 1,\n 2,\n 3,\n 1,\n 2,\n 3,\n 1,\n 2,\n 3,\n 1,\n 2,\n 3,\n 1,\n 2,\n 3,\n 1,\n 2,\n 3,\n 1,\n 2,\n 3,\n 1,\n 2,\n 3,\n 1,\n 2,\n 3,\n 1,\n 2,\n 3,\n 1,\n 2,\n 3,\n 1,\n 2,\n 3,\n 1,\n 2,\n 3,\n 1,\n 2,\n 3,\n 1,\n 2,\n 3,\n 1,\n 2,\n 3,\n 1,\n 2,\n 3,\n 1,\n 2,\n 3,\n 1,\n 2,\n 3,\n 1,\n 2,\n 3,\n 1,\n 2,\n 3,\n 1,\n 2,\n 3,\n 1,\n 2,\n 3,\n 1,\n 2,\n 3,\n 1,\n 2,\n 3,\n 1,\n 2,\n 3,\n 1,\n 2,\n 3,\n 1,\n 2,\n 3,\n 1,\n 2,\n 3,\n 1,\n 2,\n 3,\n 1,\n 2,\n 3,\n 1,\n 2,\n 3,\n 1,\n 2,\n 3,\n 1,\n 2,\n 3,\n 1,\n 2,\n 3,\n 1,\n 2,\n 3,\n 1,\n 2,\n 3,\n 1,\n 2,\n 3,\n 1,\n 2,\n 3,\n 1,\n 2,\n 3,\n 1,\n 2,\n 3,\n 1,\n 2,\n 3,\n 1,\n 2,\n 3,\n 1,\n 2,\n 3,\n 1,\n 2,\n 3,\n 1,\n 2,\n 3,\n 1,\n 2,\n 3,\n 1,\n 2,\n 3,\n 1,\n 2,\n 3,\n 1,\n 2,\n 3,\n 1,\n 2,\n 3,\n 1,\n 2,\n 3,\n 1,\n 2,\n 3,\n 1,\n 2,\n 3,\n 1,\n 2,\n 3,\n 1,\n 2,\n 3,\n 1,\n 2,\n 3,\n 1,\n 2,\n 3,\n 1,\n 2,\n 3,\n 1,\n 2,\n 3,\n 1,\n 2,\n 3,\n 1,\n 2,\n 3,\n 1,\n 2,\n 3,\n 1,\n 2,\n 3,\n 1,\n 2,\n 3,\n 1,\n 2,\n 3,\n 1,\n 2,\n 3,\n 1,\n 2,\n 3,\n 1,\n 2,\n 3,\n 1,\n 2,\n 3,\n 1,\n 2,\n 3,\n 1,\n 2,\n 3,\n 1,\n 2,\n 3,\n 1,\n 2,\n 3,\n 1,\n 2,\n 3,\n 1,\n 2,\n 3,\n 1,\n 2,\n 3,\n 1,\n 2,\n 3,\n 1,\n 2,\n 3,\n 1,\n 2,\n 3,\n 1,\n 2,\n 3,\n 1,\n 2,\n 3,\n 1,\n 2,\n 3,\n 1,\n 2,\n 3,\n 1,\n 2,\n 3,\n 1,\n 2,\n 3,\n 1,\n 2,\n 3,\n 1,\n 2,\n 3,\n 1,\n 2,\n 3,\n 1,\n 2,\n 3,\n 1,\n 2,\n 3,\n 1,\n 2,\n 3,\n 1,\n 2,\n 3,\n 1,\n 2,\n 3,\n 1,\n 2,\n 3,\n 1,\n 2,\n 3,\n 1,\n 2,\n 3,\n 1,\n 2,\n 3,\n 1,\n 2,\n 3,\n 1,\n 2,\n 3,\n 1,\n 2,\n 3,\n 1,\n 2,\n 3,\n 1,\n 2,\n 3,\n 1,\n 2,\n 3,\n 1,\n 2,\n 3,\n 1,\n 2,\n 3,\n 1,\n 2,\n 3,\n 1,\n 2,\n 3,\n 1,\n 2,\n 3,\n 1,\n 2,\n 3,\n 1,\n 2,\n 3,\n 1,\n 2,\n 3,\n 1,\n 2,\n 3,\n 1,\n 2,\n 3,\n 1,\n 2,\n 3,\n 1,\n 2,\n 3,\n 1,\n 2,\n 3,\n 1,\n 2,\n 3,\n 1,\n 2,\n 3,\n 1,\n 2,\n 3,\n 1,\n 2,\n 3,\n 1,\n 2,\n 3,\n 1,\n 2,\n 3,\n 1,\n 2,\n 3,\n 1,\n 2,\n 3,\n 1,\n 2,\n 3,\n 1,\n 2,\n 3,\n 1,\n 2,\n 3,\n 1,\n 2,\n 3,\n 1,\n 2,\n 3,\n 1,\n 2,\n 3,\n 1,\n 2,\n 3,\n 1,\n 2,\n 3,\n 1,\n 2,\n 3,\n 1,\n 2,\n 3,\n 1,\n 2,\n 3,\n 1,\n 2,\n 3,\n 1,\n 2,\n 3,\n 1,\n 2,\n 3,\n 1,\n 2,\n 3,\n 1,\n 2,\n 3,\n 1,\n 2,\n 3,\n 1,\n 2,\n 3,\n 1,\n 2,\n 3,\n 1,\n 2,\n 3,\n 1,\n 2,\n 3,\n 1,\n 2,\n 3,\n 1,\n 2,\n 3,\n 1,\n 2,\n 3,\n 1,\n 2,\n 3,\n 1,\n 2,\n 3,\n 1,\n 2,\n 3,\n 1,\n 2,\n 3,\n 1,\n 2,\n 3,\n 1,\n 2,\n 3,\n 1,\n 2,\n 3,\n 1,\n 2,\n 3,\n 1,\n 2,\n 3,\n 1,\n 2,\n 3,\n 1,\n 2,\n 3,\n 1,\n 2,\n 3,\n 1,\n 2,\n 3,\n 1,\n 2,\n 3,\n 1,\n 2,\n 3,\n 1,\n 2,\n 3,\n 1,\n 2,\n 3,\n 1,\n 2,\n 3,\n 1,\n 2,\n 3,\n 1,\n 2,\n 3,\n 1,\n 2,\n 3,\n 1,\n 2,\n 3,\n 1,\n 2,\n 3,\n 1,\n 2,\n 3,\n 1,\n ...]"
     },
     "execution_count": 34,
     "metadata": {},
     "output_type": "execute_result"
    }
   ],
   "source": [
    "l1"
   ],
   "metadata": {
    "collapsed": false,
    "pycharm": {
     "name": "#%%\n"
    }
   }
  },
  {
   "cell_type": "code",
   "execution_count": 35,
   "outputs": [
    {
     "name": "stdout",
     "output_type": "stream",
     "text": [
      "Wall time: 188 ms\n"
     ]
    }
   ],
   "source": [
    "%%time\n",
    "l1=[1,2,3]\n",
    "while len(l1)<10000000:\n",
    "    l1 +=l1"
   ],
   "metadata": {
    "collapsed": false,
    "pycharm": {
     "name": "#%%\n"
    }
   }
  },
  {
   "cell_type": "markdown",
   "source": [
    "btw l1.extend(l2) is same. but works only on iterables, when only one el has to be added do append"
   ],
   "metadata": {
    "collapsed": false,
    "pycharm": {
     "name": "#%% md\n"
    }
   }
  },
  {
   "cell_type": "code",
   "execution_count": 37,
   "outputs": [
    {
     "name": "stdout",
     "output_type": "stream",
     "text": [
      "101\n",
      "Wall time: 10 ms\n"
     ]
    }
   ],
   "source": [
    "%%time\n",
    "\n",
    "sum=-100000\n",
    "y=[]\n",
    "while sum <100:\n",
    "    sum +=3\n",
    "print(sum)"
   ],
   "metadata": {
    "collapsed": false,
    "pycharm": {
     "name": "#%%\n"
    }
   }
  },
  {
   "cell_type": "code",
   "execution_count": 38,
   "outputs": [
    {
     "name": "stdout",
     "output_type": "stream",
     "text": [
      "101\n",
      "Wall time: 7.99 ms\n"
     ]
    }
   ],
   "source": [
    "%%time\n",
    "\n",
    "sum=-100000\n",
    "\n",
    "while sum <100:\n",
    "    sum = sum + 3\n",
    "print(sum)"
   ],
   "metadata": {
    "collapsed": false,
    "pycharm": {
     "name": "#%%\n"
    }
   }
  },
  {
   "cell_type": "code",
   "source": [
    "for i in range(100):\n",
    "    if float((i+1)/23) != int((i+1)/23):\n",
    "        pass #nothing happens\n",
    "        print(f\"{i} not div by 23\")\n",
    "        continue # NEXT!\n",
    "    else:\n",
    "        print(f\"{i} is the last number not div by 23\")\n",
    "        break #UP, for-ever"
   ],
   "metadata": {
    "collapsed": false,
    "pycharm": {
     "name": "#%%\n"
    }
   },
   "execution_count": 52,
   "outputs": [
    {
     "name": "stdout",
     "output_type": "stream",
     "text": [
      "0 not div by 23\n",
      "1 not div by 23\n",
      "2 not div by 23\n",
      "3 not div by 23\n",
      "4 not div by 23\n",
      "5 not div by 23\n",
      "6 not div by 23\n",
      "7 not div by 23\n",
      "8 not div by 23\n",
      "9 not div by 23\n",
      "10 not div by 23\n",
      "11 not div by 23\n",
      "12 not div by 23\n",
      "13 not div by 23\n",
      "14 not div by 23\n",
      "15 not div by 23\n",
      "16 not div by 23\n",
      "17 not div by 23\n",
      "18 not div by 23\n",
      "19 not div by 23\n",
      "20 not div by 23\n",
      "21 not div by 23\n",
      "22 is the last number not div by 23\n"
     ]
    }
   ]
  },
  {
   "cell_type": "code",
   "execution_count": null,
   "outputs": [],
   "source": [],
   "metadata": {
    "collapsed": false,
    "pycharm": {
     "name": "#%%\n"
    }
   }
  }
 ],
 "metadata": {
  "kernelspec": {
   "display_name": "Python 3",
   "language": "python",
   "name": "python3"
  },
  "language_info": {
   "codemirror_mode": {
    "name": "ipython",
    "version": 2
   },
   "file_extension": ".py",
   "mimetype": "text/x-python",
   "name": "python",
   "nbconvert_exporter": "python",
   "pygments_lexer": "ipython2",
   "version": "2.7.6"
  }
 },
 "nbformat": 4,
 "nbformat_minor": 0
}