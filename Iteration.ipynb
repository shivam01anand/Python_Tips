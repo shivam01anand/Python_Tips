{
 "cells": [
  {
   "cell_type": "markdown",
   "metadata": {},
   "source": [
    "### generators vs lists - choose the former for building"
   ]
  },
  {
   "cell_type": "code",
   "execution_count": 2,
   "metadata": {},
   "outputs": [],
   "source": [
    "import numpy as np"
   ]
  },
  {
   "cell_type": "code",
   "execution_count": 3,
   "metadata": {},
   "outputs": [
    {
     "name": "stdout",
     "output_type": "stream",
     "text": [
      "1\n",
      "2\n",
      "3\n",
      "43\n"
     ]
    }
   ],
   "source": [
    "list=[1,2,3,43]\n",
    "for i in list:\n",
    "    print(i)"
   ]
  },
  {
   "cell_type": "code",
   "execution_count": 4,
   "metadata": {},
   "outputs": [],
   "source": [
    "def list_yield():\n",
    "    return [12,4,5,6,7]\n",
    "\n",
    "# print(list_yield())\n",
    "#[12, 4, 5, 6, 7]\n",
    "\n",
    "def list_yield():\n",
    "    yield [12,4,5,6,7]\n",
    "    \n",
    "# print(list_yield()) \n",
    "#<generator object list_yield at 0x000002057980D0B0>"
   ]
  },
  {
   "cell_type": "code",
   "execution_count": 5,
   "metadata": {},
   "outputs": [],
   "source": [
    "nums=np.random.random(size=40000000)"
   ]
  },
  {
   "cell_type": "code",
   "execution_count": 6,
   "metadata": {},
   "outputs": [
    {
     "name": "stdout",
     "output_type": "stream",
     "text": [
      "23.3 s ± 4.01 s per loop (mean ± std. dev. of 7 runs, 1 loop each)\n"
     ]
    }
   ],
   "source": [
    "%%timeit\n",
    "\n",
    "def list_return(nums):\n",
    "    result =[]\n",
    "    for i in nums:\n",
    "        result.append(i**2)\n",
    "    return result\n",
    "\n",
    "list_result=list_return(nums)"
   ]
  },
  {
   "cell_type": "code",
   "execution_count": 7,
   "metadata": {
    "scrolled": true
   },
   "outputs": [
    {
     "name": "stdout",
     "output_type": "stream",
     "text": [
      "20.2 s ± 1.99 s per loop (mean ± std. dev. of 7 runs, 1 loop each)\n"
     ]
    }
   ],
   "source": [
    "%%timeit\n",
    "\n",
    "def list_return(nums):\n",
    "    for i in nums:\n",
    "        yield i**2\n",
    "        \n",
    "#print(next(list_return(nums)))\n",
    "#144\n",
    "#print(next(list_return(nums)))\n",
    "#144....not 9 yet, as has to be on same generator. define it first.\n",
    "\n",
    "sq_generator=list_return(nums)\n",
    "\n",
    "#print(next(sq_generator))\n",
    "#144\n",
    "#print(next(sq_generator))\n",
    "#9\n",
    "\n",
    "gen_result=[i for i in sq_generator]"
   ]
  },
  {
   "cell_type": "code",
   "execution_count": 25,
   "metadata": {},
   "outputs": [],
   "source": [
    "my_nums = [x**2 for  x in [12,3,4,5,6]]"
   ]
  },
  {
   "cell_type": "code",
   "execution_count": 26,
   "metadata": {},
   "outputs": [
    {
     "name": "stdout",
     "output_type": "stream",
     "text": [
      "[144, 9, 16, 25, 36]\n"
     ]
    }
   ],
   "source": [
    "print(my_nums)"
   ]
  },
  {
   "cell_type": "code",
   "execution_count": 27,
   "metadata": {},
   "outputs": [],
   "source": [
    "my_nums = (x**2 for  x in [12,3,4,5,6])"
   ]
  },
  {
   "cell_type": "code",
   "execution_count": 28,
   "metadata": {},
   "outputs": [
    {
     "name": "stdout",
     "output_type": "stream",
     "text": [
      "144\n",
      "9\n",
      "16\n",
      "25\n",
      "36\n"
     ]
    }
   ],
   "source": [
    "for x in my_nums:\n",
    "    print(x)"
   ]
  },
  {
   "cell_type": "code",
   "execution_count": null,
   "metadata": {},
   "outputs": [],
   "source": []
  }
 ],
 "metadata": {
  "kernelspec": {
   "display_name": "Python 3",
   "language": "python",
   "name": "python3"
  },
  "language_info": {
   "codemirror_mode": {
    "name": "ipython",
    "version": 3
   },
   "file_extension": ".py",
   "mimetype": "text/x-python",
   "name": "python",
   "nbconvert_exporter": "python",
   "pygments_lexer": "ipython3",
   "version": "3.8.3"
  }
 },
 "nbformat": 4,
 "nbformat_minor": 1
}