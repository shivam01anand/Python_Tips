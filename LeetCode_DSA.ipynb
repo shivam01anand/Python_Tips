{
 "cells": [
  {
   "cell_type": "code",
   "execution_count": 2,
   "metadata": {},
   "outputs": [],
   "source": [
    "import pandas"
   ]
  },
  {
   "cell_type": "code",
   "execution_count": 59,
   "metadata": {},
   "outputs": [
    {
     "name": "stdout",
     "output_type": "stream",
     "text": [
      "start\n",
      "n  0\n",
      "added [] and result is [[]] now\n",
      "res after 0 is [[]]\n",
      "start\n",
      "n  1\n",
      "0 [1, 2, 43]\n",
      "[] el is 1\n",
      "[] 1\n",
      "n  0\n",
      "added [1] and result is [[], [1]] now\n",
      "1 [2, 43]\n",
      "[1] el is 2\n",
      "[1] 2\n",
      "n  -1\n",
      "added [1, 2] and result is [[], [1, 2], [1, 2]] now\n",
      "2 [2]\n",
      "[1, 2] el is 43\n",
      "[1, 2] 43\n",
      "n  -2\n",
      "added [1, 2, 43] and result is [[], [1, 2, 43], [1, 2, 43], [1, 2, 43]] now\n",
      "res after 1 is [[], [1, 2, 43], [1, 2, 43], [1, 2, 43]]\n",
      "start\n",
      "n  2\n",
      "0 [1, 2, 43]\n",
      "[] el is 1\n",
      "[] 1\n",
      "n  1\n",
      "0 [2, 43]\n",
      "[1] el is 2\n",
      "[1] 2\n",
      "n  0\n",
      "added [1, 2] and result is [[], [1, 2, 43], [1, 2, 43], [1, 2, 43], [1, 2]] now\n",
      "1 [43]\n",
      "[1, 2] el is 43\n",
      "[1, 2] 43\n",
      "n  -1\n",
      "added [1, 2, 43] and result is [[], [1, 2, 43], [1, 2, 43], [1, 2, 43], [1, 2, 43], [1, 2, 43]] now\n",
      "1 [2, 43]\n",
      "[1, 2, 43] el is 2\n",
      "[1, 2, 43] 2\n",
      "n  0\n",
      "added [1, 2, 43, 2] and result is [[], [1, 2, 43], [1, 2, 43], [1, 2, 43], [1, 2, 43, 2], [1, 2, 43, 2], [1, 2, 43, 2]] now\n",
      "2 [2]\n",
      "[1, 2, 43, 2] el is 43\n",
      "[1, 2, 43, 2] 43\n",
      "n  -1\n",
      "added [1, 2, 43, 2, 43] and result is [[], [1, 2, 43], [1, 2, 43], [1, 2, 43], [1, 2, 43, 2, 43], [1, 2, 43, 2, 43], [1, 2, 43, 2, 43], [1, 2, 43, 2, 43]] now\n",
      "res after 2 is [[], [1, 2, 43], [1, 2, 43], [1, 2, 43], [1, 2, 43, 2, 43], [1, 2, 43, 2, 43], [1, 2, 43, 2, 43], [1, 2, 43, 2, 43]]\n"
     ]
    }
   ],
   "source": [
    "def power_set(lst):\n",
    "    result=[]\n",
    "\n",
    "    def recursion(x,res,n):\n",
    "        print(\"n \",n)\n",
    "\n",
    "        if n <= 0:\n",
    "            result.append(res)\n",
    "            print(f\"added {res} and result is {result} now\")\n",
    "            n=m\n",
    "            return \n",
    "        else:\n",
    "            for idx,el in enumerate(x):\n",
    "                print(idx,x)\n",
    "                n=n-1\n",
    "                print(res,\"el is\", el)\n",
    "                x=x[:idx]+x[idx+1:]\n",
    "                print(res,el)\n",
    "                res.append(el)\n",
    "                recursion(x,res,n)\n",
    "    \n",
    "    l=len(lst)\n",
    "    \n",
    "    for n in range(l):\n",
    "        m=n\n",
    "        print(f\"start\")\n",
    "        recursion(lst,[],n)\n",
    "        print(f\"res after {n} is {result}\")\n",
    "\n",
    "    \n",
    "\n",
    "power_set([1,2,43])"
   ]
  },
  {
   "cell_type": "code",
   "execution_count": 45,
   "metadata": {},
   "outputs": [],
   "source": [
    "lst=[]\n",
    "el=1"
   ]
  },
  {
   "cell_type": "code",
   "execution_count": 47,
   "metadata": {},
   "outputs": [],
   "source": [
    "lst.append(el)"
   ]
  },
  {
   "cell_type": "code",
   "execution_count": 48,
   "metadata": {},
   "outputs": [
    {
     "data": {
      "text/plain": [
       "[1]"
      ]
     },
     "execution_count": 48,
     "metadata": {},
     "output_type": "execute_result"
    }
   ],
   "source": [
    "lst"
   ]
  },
  {
   "cell_type": "code",
   "execution_count": null,
   "metadata": {},
   "outputs": [],
   "source": []
  }
 ],
 "metadata": {
  "interpreter": {
   "hash": "31f2aee4e71d21fbe5cf8b01ff0e069b9275f58929596ceb00d14d90e3e16cd6"
  },
  "kernelspec": {
   "display_name": "Python 3.6.9 64-bit",
   "language": "python",
   "name": "python3"
  },
  "language_info": {
   "codemirror_mode": {
    "name": "ipython",
    "version": 3
   },
   "file_extension": ".py",
   "mimetype": "text/x-python",
   "name": "python",
   "nbconvert_exporter": "python",
   "pygments_lexer": "ipython3",
   "version": "3.6.9"
  },
  "orig_nbformat": 4
 },
 "nbformat": 4,
 "nbformat_minor": 2
}
