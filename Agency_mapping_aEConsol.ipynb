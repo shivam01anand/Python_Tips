{
 "cells": [
  {
   "cell_type": "code",
   "execution_count": 1,
   "metadata": {
    "collapsed": true
   },
   "outputs": [
    {
     "name": "stderr",
     "output_type": "stream",
     "text": [
      "C:\\Users\\shivamanand\\anaconda3\\lib\\site-packages\\IPython\\core\\interactiveshell.py:3343: DtypeWarning: Columns (29,36,41) have mixed types.Specify dtype option on import or set low_memory=False.\n",
      "  exec(code_obj, self.user_global_ns, self.user_ns)\n"
     ]
    }
   ],
   "source": [
    "import pandas as pd\n",
    "\n",
    "df=pd.read_csv(r\"C:\\Users\\shivamanand\\Downloads\\tata_aia-users (1).csv\")\n",
    "zbhmapping=pd.read_csv(r\"C:\\Users\\shivamanand\\Downloads\\agency_new.csv\")\n",
    "final_map=pd.read_csv(r\"C:\\Users\\shivamanand\\Downloads\\final_map.csv\")"
   ]
  },
  {
   "cell_type": "code",
   "execution_count": 2,
   "outputs": [],
   "source": [
    "df=df.fillna(0)\n",
    "df=df[['Agency' in str(x) for x in df['Department Name']]]\n",
    "def split(x):\n",
    "    try:\n",
    "        return x.split('_')[1].split('_')[0]\n",
    "    except:\n",
    "        return x\n",
    "\n",
    "df['code_generated']=df['User Group'].apply(lambda x: split(x))\n",
    "df['symbol']=df['User Group'].apply(lambda x: str(x)[0])\n",
    "df=df[['Employee ID','Employee Name','Supervisor ID','Designation','User Group','code_generated','symbol']]\n",
    "e_users=list(df[df['symbol']=='e']['code_generated'].unique())\n",
    "d={}\n",
    "for i in e_users:\n",
    "    d[i]=df[df['code_generated']==i]['Employee ID'].unique()\n",
    "dff=pd.DataFrame.from_dict(d,orient='index')"
   ],
   "metadata": {
    "collapsed": false,
    "pycharm": {
     "name": "#%%\n"
    }
   }
  },
  {
   "cell_type": "code",
   "execution_count": 9,
   "outputs": [],
   "source": [
    "reg_user_list=df['Employee ID'].unique()\n",
    "reg_user_list=list(set(reg_user_list))\n",
    "list_of_lists=[]\n",
    "for i,user in enumerate(reg_user_list):\n",
    "    try:\n",
    "        list_of_lists.append([user,dff[dff.values==user].index[0]])\n",
    "    except:\n",
    "        list_of_lists.append([user,\"empty\"])\n",
    "zbh_mapping1 = pd.DataFrame(list_of_lists, columns=[\"User\",\"Manager\"])\n",
    "\n",
    "# zbh_mapping1.to_csv(r\"Downloads\\a_to_e_mapping.csv\")\n",
    "# a_to_e_mapping=pd.read_csv(r\"C:\\Users\\shivamanand\\Downloads\\a_to_e_mapping.csv\")\n",
    "a_to_e_mapping=zbh_mapping1\n",
    "# a_to_e_mapping.drop(a_to_e_mapping.columns[0],axis=1,inplace=True)\n",
    "a_to_e_mapping.columns=['a_User','e_manager']\n"
   ],
   "metadata": {
    "collapsed": false,
    "pycharm": {
     "name": "#%%\n"
    }
   }
  },
  {
   "cell_type": "code",
   "execution_count": 23,
   "outputs": [],
   "source": [
    "zbhmapping_eusers=zbhmapping[zbhmapping['User'].isin(e_users)]\n",
    "zbhmapping_eusers.rename({'Manager':'ZBH'},axis=1,inplace=True)\n",
    "zbh_mappingConcat=a_to_e_mapping.merge(zbhmapping_eusers,how='left',left_on='e_manager',right_on='User')\n",
    "df_final_mapping=pd.concat([zbh_mappingConcat[['a_User','ZBH']].rename({'a_User':'User'},axis=1),zbh_mappingConcat[zbh_mappingConcat['e_manager'].isin(e_users)][['e_manager','ZBH']].rename({'e_manager':'User'},axis=1)]).drop_duplicates()\n",
    "df_final_mapping\n",
    "\n",
    "df_final_mapping=df_final_mapping.merge(df[['Employee ID','Employee Name']],how='left',left_on='ZBH',right_on='Employee ID')"
   ],
   "metadata": {
    "collapsed": false,
    "pycharm": {
     "name": "#%%\n"
    }
   }
  },
  {
   "cell_type": "code",
   "execution_count": 26,
   "outputs": [
    {
     "data": {
      "text/plain": "{'3966341', '3992108'}"
     },
     "execution_count": 26,
     "metadata": {},
     "output_type": "execute_result"
    }
   ],
   "source": [
    "set(df_final_mapping['ZBH'].unique())- set(df_final_mapping['Employee ID'].unique())"
   ],
   "metadata": {
    "collapsed": false,
    "pycharm": {
     "name": "#%%\n"
    }
   }
  },
  {
   "cell_type": "code",
   "execution_count": 28,
   "outputs": [
    {
     "data": {
      "text/plain": "          User      ZBH Employee ID Employee Name\n45028  3969714  3966341         NaN           NaN",
      "text/html": "<div>\n<style scoped>\n    .dataframe tbody tr th:only-of-type {\n        vertical-align: middle;\n    }\n\n    .dataframe tbody tr th {\n        vertical-align: top;\n    }\n\n    .dataframe thead th {\n        text-align: right;\n    }\n</style>\n<table border=\"1\" class=\"dataframe\">\n  <thead>\n    <tr style=\"text-align: right;\">\n      <th></th>\n      <th>User</th>\n      <th>ZBH</th>\n      <th>Employee ID</th>\n      <th>Employee Name</th>\n    </tr>\n  </thead>\n  <tbody>\n    <tr>\n      <th>45028</th>\n      <td>3969714</td>\n      <td>3966341</td>\n      <td>NaN</td>\n      <td>NaN</td>\n    </tr>\n  </tbody>\n</table>\n</div>"
     },
     "execution_count": 28,
     "metadata": {},
     "output_type": "execute_result"
    }
   ],
   "source": [
    "df_final_mapping[df_final_mapping['ZBH']=='3966341']"
   ],
   "metadata": {
    "collapsed": false,
    "pycharm": {
     "name": "#%%\n"
    }
   }
  },
  {
   "cell_type": "code",
   "execution_count": 29,
   "outputs": [
    {
     "data": {
      "text/plain": "          User      ZBH Employee ID Employee Name\n21690  3994803  3992108         NaN           NaN",
      "text/html": "<div>\n<style scoped>\n    .dataframe tbody tr th:only-of-type {\n        vertical-align: middle;\n    }\n\n    .dataframe tbody tr th {\n        vertical-align: top;\n    }\n\n    .dataframe thead th {\n        text-align: right;\n    }\n</style>\n<table border=\"1\" class=\"dataframe\">\n  <thead>\n    <tr style=\"text-align: right;\">\n      <th></th>\n      <th>User</th>\n      <th>ZBH</th>\n      <th>Employee ID</th>\n      <th>Employee Name</th>\n    </tr>\n  </thead>\n  <tbody>\n    <tr>\n      <th>21690</th>\n      <td>3994803</td>\n      <td>3992108</td>\n      <td>NaN</td>\n      <td>NaN</td>\n    </tr>\n  </tbody>\n</table>\n</div>"
     },
     "execution_count": 29,
     "metadata": {},
     "output_type": "execute_result"
    }
   ],
   "source": [
    "df_final_mapping[df_final_mapping['ZBH']=='3992108']"
   ],
   "metadata": {
    "collapsed": false,
    "pycharm": {
     "name": "#%%\n"
    }
   }
  },
  {
   "cell_type": "code",
   "execution_count": 30,
   "outputs": [],
   "source": [
    "df_final_mapping.drop('Employee ID',axis=1,inplace=True)"
   ],
   "metadata": {
    "collapsed": false,
    "pycharm": {
     "name": "#%%\n"
    }
   }
  },
  {
   "cell_type": "code",
   "execution_count": 51,
   "outputs": [
    {
     "data": {
      "text/plain": "{'0'}"
     },
     "execution_count": 51,
     "metadata": {},
     "output_type": "execute_result"
    }
   ],
   "source": [
    "#match users\n",
    "set(df_final_mapping['User'].unique())-set(final_map[final_map['Channel']=='Agency']['User'].unique())"
   ],
   "metadata": {
    "collapsed": false,
    "pycharm": {
     "name": "#%%\n"
    }
   }
  },
  {
   "cell_type": "code",
   "execution_count": 55,
   "outputs": [],
   "source": [
    "#match zbh\n",
    "setA=set(final_map[final_map['Channel']=='Agency'].drop_duplicates()[['User','ZH']].sort_values(by='User').apply(lambda x: (x['User'],x['ZH']) ,axis=1).unique())"
   ],
   "metadata": {
    "collapsed": false,
    "pycharm": {
     "name": "#%%\n"
    }
   }
  },
  {
   "cell_type": "code",
   "execution_count": 54,
   "outputs": [],
   "source": [
    "setB=set(df_final_mapping.drop_duplicates()[['User','Employee Name']].sort_values(by='User').apply(lambda x: (x['User'],x['Employee Name']) ,axis=1).unique())"
   ],
   "metadata": {
    "collapsed": false,
    "pycharm": {
     "name": "#%%\n"
    }
   }
  },
  {
   "cell_type": "code",
   "execution_count": 46,
   "outputs": [
    {
     "data": {
      "text/plain": "59825"
     },
     "execution_count": 46,
     "metadata": {},
     "output_type": "execute_result"
    }
   ],
   "source": [
    "len(setA-setB) #not matching"
   ],
   "metadata": {
    "collapsed": false,
    "pycharm": {
     "name": "#%%\n"
    }
   }
  },
  {
   "cell_type": "code",
   "execution_count": 60,
   "outputs": [
    {
     "data": {
      "text/plain": "          User      ZBH                Employee Name Channel  \\\n0            0  3971085        Rajesh Devidas Warade     NaN   \n1      4836442  3962016                Paras Bhutani  Agency   \n2      5037409  3962940      Ananta  Narayana Thakur  Agency   \n3      4892127  3961750           Prakash Bedarakota  Agency   \n4      4974936  3973723                  Anil  Mehta  Agency   \n...        ...      ...                          ...     ...   \n61177  4936676  3968641                 MANISH TYAGI  Agency   \n61178  4672061  3979065  Manish Sheo Shanker Chaubey  Agency   \n61179  4620274  3965207                PURUSHOTHAM B  Agency   \n61180  4935825  3963193    INDERPREET SINGH CHHATWAL  Agency   \n61181  4797428  3945236             Anshuman Ganguly  Agency   \n\n                                  ZH  \n0                                NaN  \n1                        PANKAJ GERA  \n2                       YOGESH ANAND  \n3      SITAKANTA BIRESWARA MOHAPATRA  \n4                        PANKAJ GERA  \n...                              ...  \n61177                   YOGESH ANAND  \n61178                Aswini Praharaj  \n61179  SITAKANTA BIRESWARA MOHAPATRA  \n61180                    PANKAJ GERA  \n61181                Aswini Praharaj  \n\n[61182 rows x 5 columns]",
      "text/html": "<div>\n<style scoped>\n    .dataframe tbody tr th:only-of-type {\n        vertical-align: middle;\n    }\n\n    .dataframe tbody tr th {\n        vertical-align: top;\n    }\n\n    .dataframe thead th {\n        text-align: right;\n    }\n</style>\n<table border=\"1\" class=\"dataframe\">\n  <thead>\n    <tr style=\"text-align: right;\">\n      <th></th>\n      <th>User</th>\n      <th>ZBH</th>\n      <th>Employee Name</th>\n      <th>Channel</th>\n      <th>ZH</th>\n    </tr>\n  </thead>\n  <tbody>\n    <tr>\n      <th>0</th>\n      <td>0</td>\n      <td>3971085</td>\n      <td>Rajesh Devidas Warade</td>\n      <td>NaN</td>\n      <td>NaN</td>\n    </tr>\n    <tr>\n      <th>1</th>\n      <td>4836442</td>\n      <td>3962016</td>\n      <td>Paras Bhutani</td>\n      <td>Agency</td>\n      <td>PANKAJ GERA</td>\n    </tr>\n    <tr>\n      <th>2</th>\n      <td>5037409</td>\n      <td>3962940</td>\n      <td>Ananta  Narayana Thakur</td>\n      <td>Agency</td>\n      <td>YOGESH ANAND</td>\n    </tr>\n    <tr>\n      <th>3</th>\n      <td>4892127</td>\n      <td>3961750</td>\n      <td>Prakash Bedarakota</td>\n      <td>Agency</td>\n      <td>SITAKANTA BIRESWARA MOHAPATRA</td>\n    </tr>\n    <tr>\n      <th>4</th>\n      <td>4974936</td>\n      <td>3973723</td>\n      <td>Anil  Mehta</td>\n      <td>Agency</td>\n      <td>PANKAJ GERA</td>\n    </tr>\n    <tr>\n      <th>...</th>\n      <td>...</td>\n      <td>...</td>\n      <td>...</td>\n      <td>...</td>\n      <td>...</td>\n    </tr>\n    <tr>\n      <th>61177</th>\n      <td>4936676</td>\n      <td>3968641</td>\n      <td>MANISH TYAGI</td>\n      <td>Agency</td>\n      <td>YOGESH ANAND</td>\n    </tr>\n    <tr>\n      <th>61178</th>\n      <td>4672061</td>\n      <td>3979065</td>\n      <td>Manish Sheo Shanker Chaubey</td>\n      <td>Agency</td>\n      <td>Aswini Praharaj</td>\n    </tr>\n    <tr>\n      <th>61179</th>\n      <td>4620274</td>\n      <td>3965207</td>\n      <td>PURUSHOTHAM B</td>\n      <td>Agency</td>\n      <td>SITAKANTA BIRESWARA MOHAPATRA</td>\n    </tr>\n    <tr>\n      <th>61180</th>\n      <td>4935825</td>\n      <td>3963193</td>\n      <td>INDERPREET SINGH CHHATWAL</td>\n      <td>Agency</td>\n      <td>PANKAJ GERA</td>\n    </tr>\n    <tr>\n      <th>61181</th>\n      <td>4797428</td>\n      <td>3945236</td>\n      <td>Anshuman Ganguly</td>\n      <td>Agency</td>\n      <td>Aswini Praharaj</td>\n    </tr>\n  </tbody>\n</table>\n<p>61182 rows × 5 columns</p>\n</div>"
     },
     "execution_count": 60,
     "metadata": {},
     "output_type": "execute_result"
    }
   ],
   "source": [
    "#merge check zh differences in name\n",
    "df_final_mapping.merge(final_map, left_on='User', right_on='User', how='left')"
   ],
   "metadata": {
    "collapsed": false,
    "pycharm": {
     "name": "#%%\n"
    }
   }
  },
  {
   "cell_type": "code",
   "execution_count": 61,
   "outputs": [
    {
     "data": {
      "text/plain": "array(['Rajesh Devidas Warade', 'Paras Bhutani',\n       'Ananta  Narayana Thakur', 'Prakash Bedarakota', 'Anil  Mehta',\n       'Vinoth AT', 'Anshuman Ganguly', 'Shyam  Narayan  Singh',\n       'Yogesh Maudgil', nan, 'Subrata Shee', 'ASHOK KUMAR PRADHAN',\n       'Tirtha Ranjan Paul', 'Gurprit Singh', 'Tushar Mahendrabhai Bhatt',\n       'Manoj Kumar Kukreja', 'Sumit  Amit Ghosh', 'MANISH TYAGI',\n       'Jasvinder Singh', 'Rahul Jankar Patil', 'PRATYUSH BOSE',\n       'Manish Vinodchandra Shah', 'Pulak Sen', 'Avudaiappan  S',\n       'Manik Ashok Sharma', 'Amit Sharma', 'Arindam Chakraborty',\n       'Vishal Chauhan', 'Shankar Seshan', 'Anthon Suvilas Shinde',\n       'RaghavendraChary MangaiahChary D', 'Saikrishna Punaati',\n       'AadhiShankar U', 'Muraleekrishnan P', 'Vinodkumar Vemula',\n       'Nagendra Kailash Kumar', 'Sanjeev Sri Jain', 'Niraj Kumar Singh',\n       'SUSHANTA  PATRA', 'YOGESH PARIKH', 'SUBHENDU  KUMAR NAYAK',\n       'Venkatesan Masilamani', 'SANDIP  KUMAR  PARIDA',\n       'VIJAY RAMNIWAS BHUSHAN', 'Sendil Kumar P',\n       'Vishal Ramu Chavan Chavan', 'Valmik Mandavade',\n       'Bibek Bana Bihari Das', 'Atrijit Chandra Kanta Bora',\n       'Sanjiv Arvind Kankhar', 'SantoshKumar Pandey',\n       'Sanjaykumar Ramesh Srivastava', 'Manish Tanpathak', 'Linu V',\n       'Sumitro Paul', 'VISHAL SHARMA', 'INDERPREET SINGH CHHATWAL',\n       'JAGATHAN VELU NARAYANAN', 'Amrish  Manilal Karia',\n       'Durgaprasad  Tripathy', 'Vivek Yadav', 'Manoj Sharma',\n       'SHASHI KUMAR SUDHANSHU', 'Keshav Khera',\n       'GirishPrasad LalitMohan Chand', 'Satish Vinod Mishra',\n       'Gunasekaran Duraisamy D', 'TANAUJA PRATIHAST', 'ABHISHEK  KUMAR',\n       'SANDIPAN BISWAS', 'DEVRAJ ROY CHOWDHARY', 'SANJAY NARAYANAN',\n       'Britto Nicholos', 'NITESH VHATKAR', 'Anurag Akshay Agrawal',\n       'JEYACHANDRAN G', 'KRISHNA KUMAR', 'ANANT DURUODHAN',\n       'MohammedAli Syed', 'Sanjay Narender Arya', 'Siddhartha Sarma',\n       'Sheikismail Sheikabdullah  Sheikabdullah', 'Shashishekhar Mishra',\n       'Mandar Madan Palorkar', 'Amlan Choudhury', 'ANUP DAS',\n       'Thomaskutty KJacob', 'Nandhivarman  G', 'Swati  Amit Tambe',\n       'Yatiraj Laxman Mane', 'Prem Pandey', 'Sohinder  palSingh Teja',\n       'Chandra Mohan Saraswat', 'Surojit Dutta', 'Sunil Suryamal Kumar',\n       'Kailash Pati Singh', 'Saurabh Agrawal', 'Vishal Mehta',\n       'Jithendra Phani Kumar', 'Arif Mohammed', 'Nilotpal Bagchi',\n       'Ritesh Saraff', 'Alok Mithileshwari Verma', 'Rahulgiri Gosai',\n       'Anshuman  Arunkumar Srivastava', 'Ramu Batthula',\n       'Chandra Sekhar Biswas', 'Dhyanesh Vasavada', 'Manish Chauhan',\n       'Soumen Sarkar', 'PawanKumar Panwar', 'Umakant Balappa Sogalad',\n       'Anuj Srivastava', 'Vannadil Kiran', 'Chithanoor Yadagiri',\n       'Manivannan G', 'Partha Mondal', 'RAKESH  SWAIN',\n       'Akshaya Kumar Sahoo', 'Shajan Ismail Shaikh', 'PANKAJ GERA',\n       'Saurabh Moitra', 'PRAVEEN  PATIL', 'HARIBABU N', 'Nikunj Anadkat',\n       'Dipankar Biswas', 'Sunil Patil', 'ASHISH VERMA', 'Rajiv Labala',\n       'Angshuman Guha', 'PANKESHJAIN', 'Ashish Shankar Kukreti',\n       'Dipankar Debabrata Mishra', 'Priyesh Dinesh Lakhani',\n       'Nilachal Bhawal', 'Nagaraj Rao', 'Pulivarthi Chakravarthi',\n       'SUNDARAMOORTHI PETTHAIAH MURUGAN', 'Prashanth T',\n       'Ramu  Narasimha Sura', 'Manish Nigam', 'Soumitra Chatterjee',\n       'Sunil Ramchandragurappanaik Naik', 'AVANEDRA SINGH', 'SUMANTA DE',\n       'Amit Kumar Gupta', 'Deviprasad  Sshetty', 'RAJANIKANTA NAYAK',\n       'Hardeep  Inder Singh', 'ROHAN SHARMA', 'Sanjay Mehra',\n       'Mitul  Parikh', 'Chintan Pathak', 'Manish Sheo Shanker Chaubey',\n       'Nitin Ahuja', 'Anoop M Thomas', 'Sathyanarayana Nayak',\n       'Dhirendra Singh', 'HARIKRUSHNA PATTNAIK', 'Himanshu  Rathod',\n       'Indrajeet Mallick', 'Pravash Mishra', 'Surender Kumar',\n       'Jagjeet Kumar Rath', 'Sudhir Sabharwal',\n       'Harshad Yashwant Kambli', 'Mukeshkumar Yadav', 'Suryakant Patil',\n       'PRADIP  PAHARI', 'Jomon Augusthy',\n       'Rajeshkumar  Maganlal Jagatiya', 'Partha Pratim Kalita',\n       'Siby Joseph Joseph', 'Brijesh Mehta', 'Ajay Ramji Tripathi',\n       'Dinesh Kumar Shukla', 'Abhisek Purkayastha', 'Nikhil Pasare',\n       'PrasantaKumar Rout', 'Somdeb Narayan Saha', 'ANIL KUMAR SINGH',\n       'Sunil Ramswarupji Jajoo', 'Bijan Mohapatra',\n       'MANORAMA GOKULANAND SINHA', 'JOGARAO MUDRAGADA', 'Arun Bal',\n       'Nirav Vinodchandra Desai', 'RAJKUMAR RAMCHAND BHATIA',\n       'Alok Jagdishprasad Kumar', 'Arjun Dinkar Kadam', 'Sajikumar MK',\n       'SUSHIL KUMAR YADAV', 'Anilkumar Maheshchand Gupta',\n       'Kaushalkishore Prem Kishore Mishra', 'Anantha Venkatesu',\n       'Rahul  Sengupta', 'RAJAT  NASA', 'Ankit Shah',\n       'Ashokkumar Radheshyam  Singh', 'Anand Tomar', 'M  Diwakar',\n       'Parag Jawahar Punjabi', 'Basant Kumar Jha',\n       'Harit Mahendrakumar Chavda', 'Amit Das', 'PURUSHOTHAM B',\n       'Preeti Tiwari', 'Ravindran K', 'Prabhat Lama',\n       'Vikram  Chitranjankumar Bali', 'Sandip Singh',\n       'Pranesh Chandra Dinkar', 'Gregory Alex Gomes', 'Anup  K V',\n       'Vaibhav Kumar Bartariya', 'LALIT PRASAD',\n       'Sanjay Chhelshankar Pandya', 'Nagaraj M', 'Dharm  Vir',\n       'ARULMOORTHY R', 'Roshan Sarangthem', 'Karthick A',\n       'Gaurav Mishra', 'Ashim  Kumar Dey',\n       'Krishnakumar Kuddanram Chaurasia', 'RajeshSundar Radhamohan Dash',\n       'Prince Khanna', 'Sonal Kamal Gon', 'Biswabhusan Ray',\n       'Shantanu Pradhan', 'Nanditha H Bose', 'Raghu Kumar K',\n       'Gautam Paul', 'NEERAJ VERMA', 'ReeteshKumar Patra',\n       'Jagdish  Ramprasad Dobhal', 'Jai Prakash Mittal',\n       'JugenderSingh  Bhati', 'DEEPAK PHADNIS', 'Ranjan Chaturvedi',\n       'Govardhan G', 'Ajay Tilak Awasthi', 'Kapil Satnaryan Goel',\n       'Sabbir Hasan Rashid', 'Sanjay Koul', 'Anant Sinha',\n       'Pinku Jaiswal', 'Jitender  Kumar  Garg', 'Vinod  Kumar Tiwari',\n       'Javed Marjan', 'Dharmaprakasha Rangegowda  B',\n       'Ravi  Ekram Kumar', 'Amitkumar Srivastav',\n       'Bijoyananda Bibek Das', 'MADAMALA VIJAYA BHASKER', 'Ganesh V',\n       'Abhishake Saxena', 'ROHIT SIKKA', 'DANNY VARGHESE KADAPARAMBIL',\n       'Rakesh Sharma', 'Rajesh Surendra Kumar', 'Hargovind Dangi',\n       'ADWAITPRASAD BARAL', 'BHAGIRATH KISHNARAM BISHNOI',\n       'RAJDEV PRASAD', 'Anil Baban Gajarmal', 'Anoop Kumar',\n       'Jaspreet Singh', 'NaveenKumar Maheshchand Gupta', 'Naresh Vadali',\n       'Arun Mathew', 'YELLESHVIJAY BOMPELLY', 'Mehmood Shaikh',\n       'Manoj KumarK', 'AjayKumar Harihar Singh',\n       'Mohdmuzzafar Mohammad Obaidullah Hassan', 'Sundaramoorthy A',\n       'Mancha Srinivasarao', 'Dheeraj Pradeedkumar Goel',\n       'SAMIR BHUNGLIYA', 'NagaVenkata RamanaDuddu', 'AJAY ASHOK KUMAR',\n       'Shahid Khan', 'KARTIKKUMAR BHOLANATH TRIPATHY',\n       'Manish Kumar Nanchahal', 'Sachin Hiranand Ahuja',\n       'BHASKAR PRASAD', 'Neeraj Singh', 'Rajesh Prasad Hota',\n       'Pranab Gouranga Poddar', 'Rajneeshkumar  Mishra',\n       'Arpit Rajnikant Shukla', 'Ambika Sharma',\n       'Abhijit Himangshu Mishra', 'Gururaja Puttaswamy', 'Dinesh Kumar',\n       'Sainath Dhatrika', 'Hemchandra Naveen Jha', 'Mohammad Harun',\n       'Duke  AnilKumar  Dihingia', 'Manojkumar Gupta', 'Arun K Singh',\n       'Vinothkumar Namasivayan N', 'Vishwas Ramanath Nayakh',\n       'Arunkumar  R  Krishnan', 'VELMURUGAN R', 'SURESHBABU D',\n       'Jayesh  Sebastian', 'Nrusingha Prasad Nanda',\n       'Ranjeev Srikant Roy', 'Deepa Vyas', 'Anil  Pandey',\n       'Hasso Vishindas Mehtani', 'Rahulkumar B Mandora', 'Goutam Roy',\n       'Ruturaj Raval', 'Manoj Kumar', 'Gulshan Miglani', 'AMIT METIA',\n       'SITAKANTA BIRESWARA MOHAPATRA', 'Sushil Sudhakar Chandulwar',\n       'Bimal  Kumar', 'Ramesh Chimanlal Panchal',\n       'Prasad Kollipara V B K', 'NILESH KUMAR BHADANI',\n       'Antony John Rebeiro', 'Surender  Prem Thakur', 'DAVINDER SHARMA',\n       'Dilip Mandabhai  Chopda', 'Goutam Amresh Chakraborty',\n       'Mohammad Pir Gulam', 'GURPREET SINGH', 'Aswini Praharaj',\n       'Rajdeep Samaresh  Nag', 'Manas Kailash ChandraPati',\n       'BHOOP SINGH', 'Prashant Shamjee', 'Piyush Pandey', 'Sunil Parmar',\n       'Uttam Manoharlal Mendiratta', 'Shashank Magan Srivastava',\n       'BHARANI YARADA', 'Rajesh Kumar', 'SACHIN CHAWLA', 'YOGESH ANAND',\n       'Balaji Ramachandran R', 'Subhasish Kar', 'VINOD RAGHAVAN NAIR',\n       'ANBARASAN T', 'SujeetKumar', 'Fazlurrahman  Faiyaz Khan',\n       'PRAVOSIS MOHANTY', 'Amit Bhatia', 'Prabhat  Kumar Bhasker',\n       'Dinesh  Tulsidas Kumar', 'Manoj Badri  Piplani', 'Amit Arun Dave',\n       'Tarun  Gupta', 'Raghavendrasa Vasant Kabade',\n       'Shyamlal Rigzin Negi', 'Radhakrishna Samudrala V',\n       'Hitendra Bahadursinh Dhadhal', 'Sanjay Patel', 'SISMIT MOHANTY',\n       'THIRUPATHI NUNE', 'SUNERTA RELEKAR', 'Vineet Mishra',\n       'Goutam  Kumar', 'Kamal  Agarwala', 'Vipul Sharma',\n       'Nagnath Vitthalrao Buddhalwad', 'Rajneesh Singh', 'Sougat Nandi',\n       'Amitkumar Purushotam  Shrimali', 'Ashutosh Tarkeshwar Singh',\n       'Jeetendra Krishna Malviya', 'SUBRAHMANYA VITTALDASM',\n       'Sachin Premchandra Kumar'], dtype=object)"
     },
     "execution_count": 61,
     "metadata": {},
     "output_type": "execute_result"
    }
   ],
   "source": [
    "df_final_mapping['Employee Name'].unique()"
   ],
   "metadata": {
    "collapsed": false,
    "pycharm": {
     "name": "#%%\n"
    }
   }
  },
  {
   "cell_type": "code",
   "execution_count": 62,
   "outputs": [
    {
     "data": {
      "text/plain": "array(['Joy Sukumar Banerjee', 'Jay  Kumar', 'Varun  Gupta',\n       'Amit Nandkishore Malhotra', 'Sourabh RaviPrakash Mishra',\n       'Pradeep Shailendra Tripathi', 'PIYUSH  NAHAR',\n       'Achal Trilok Pathak', 'empty', 'Vineet Raj Kumar Jain',\n       'Vikas Kumar Rajak', 'Purushothama Palivela Rao',\n       'Pallav  Agrawal', 'Shubham PawanKumar Tongia',\n       'Ramith Raghavan K', 'Madhur Kamlesh Vijaywargiya',\n       'Vishwanath Shivnarayan Tata', 'Chittaranjan Chakradhar Nayak',\n       'Harsh Dhananjay Jhaveri', 'Samik  Nath', 'S. Rama  Sundaram',\n       'Srinivas Subramanya Rallabandi', 'SanjaySingh Sengar',\n       'Brinder Singh', 'Adilhusain Siddiqui', 'Kishore V. A. S.',\n       'Kailasam Vijay Chandran', 'Rakesh Malcolm Powell',\n       'Mackson Joseph Mathew', 'PANKAJ GERA', 'YOGESH ANAND',\n       'SITAKANTA BIRESWARA MOHAPATRA', 'Arunkumar  R  Krishnan',\n       'Aswini Praharaj', 'SACHIN CHAWLA', 'Prabhat  Kumar Bhasker',\n       'Praveen Dharamvir Bahl', 'Hamid  Zoha', 'Akash  Pandey',\n       'Samta  Agarwal', 'Reddyraja Kamuloor K', 'Ajay  Sharma'],\n      dtype=object)"
     },
     "execution_count": 62,
     "metadata": {},
     "output_type": "execute_result"
    }
   ],
   "source": [
    "final_map['ZH'].unique()"
   ],
   "metadata": {
    "collapsed": false,
    "pycharm": {
     "name": "#%%\n"
    }
   }
  },
  {
   "cell_type": "code",
   "execution_count": null,
   "outputs": [],
   "source": [
    "#clear diff"
   ],
   "metadata": {
    "collapsed": false,
    "pycharm": {
     "name": "#%%\n"
    }
   }
  },
  {
   "cell_type": "code",
   "execution_count": 69,
   "outputs": [
    {
     "data": {
      "text/plain": "      Employee ID                   Employee Name  \\\n0         4896953                  A  ABDULLATHIF   \n1         4982043                       A  ANJANA   \n2         4963665                 A  AROCKIA MARY   \n3         4967656             A  ARUL ADAIKALARAJ   \n4         4736820                 A  BALASUNDARAM   \n...           ...                             ...   \n68699     4667943  vaishali yogeshkumar vithalani   \n68700     4582463      vikeshkumar kanubhai patel   \n68701     4760205           vishakha balu bhosale   \n68702     4498750      vithoba gabaji suryawanshi   \n68704     4795455           yogendra kumar sharma   \n\n                        Supervisor ID  \\\n0                  MANOHAR R(4036201)   \n1                 SUJITHA  R(4927026)   \n2        SADAIAPPAN  KARTHIK(4817216)   \n3      MALAYAN  MUTHULAKSHMI(4931636)   \n4              R R RAMESHBABU(495631)   \n...                               ...   \n68699  KETAN MAGANBHAI FALDU(4617848)   \n68700    KRUTI JIGNESH MEHTA(4178370)   \n68701       Agency Admin(agencyadmin)   \n68702  GOUD SANTOSH SHANTILAL(186953)   \n68704       NISHCHAY JAISWAL(4689796)   \n\n                                      Designation      User Group  \\\n0      Senior Insurance Wealth Manager - Prime-IK  a_3961102_CH05   \n1                       NEW LICENSED ADVISOR - BA  a_3962657_PK02   \n2                                    ADVISOR - BA  a_3981218_TU02   \n3                                    LIFE PLANNER  a_3962226_PY02   \n4                                    LIFE PLANNER  a_3968386_MD02   \n...                                           ...             ...   \n68699                                LIFE PLANNER  a_3966512_JG03   \n68700                                ADVISOR - BA  a_3977952_AH03   \n68701                                ADVISOR - BA  a_3994008_MU34   \n68702                                ADVISOR - BA  a_3992817_NS02   \n68704                   BUSINESS ASSOCIATE LEADER  a_3975071_JA01   \n\n      code_generated symbol  \n0            3961102      a  \n1            3962657      a  \n2            3981218      a  \n3            3962226      a  \n4            3968386      a  \n...              ...    ...  \n68699        3966512      a  \n68700        3977952      a  \n68701        3994008      a  \n68702        3992817      a  \n68704        3975071      a  \n\n[59979 rows x 7 columns]",
      "text/html": "<div>\n<style scoped>\n    .dataframe tbody tr th:only-of-type {\n        vertical-align: middle;\n    }\n\n    .dataframe tbody tr th {\n        vertical-align: top;\n    }\n\n    .dataframe thead th {\n        text-align: right;\n    }\n</style>\n<table border=\"1\" class=\"dataframe\">\n  <thead>\n    <tr style=\"text-align: right;\">\n      <th></th>\n      <th>Employee ID</th>\n      <th>Employee Name</th>\n      <th>Supervisor ID</th>\n      <th>Designation</th>\n      <th>User Group</th>\n      <th>code_generated</th>\n      <th>symbol</th>\n    </tr>\n  </thead>\n  <tbody>\n    <tr>\n      <th>0</th>\n      <td>4896953</td>\n      <td>A  ABDULLATHIF</td>\n      <td>MANOHAR R(4036201)</td>\n      <td>Senior Insurance Wealth Manager - Prime-IK</td>\n      <td>a_3961102_CH05</td>\n      <td>3961102</td>\n      <td>a</td>\n    </tr>\n    <tr>\n      <th>1</th>\n      <td>4982043</td>\n      <td>A  ANJANA</td>\n      <td>SUJITHA  R(4927026)</td>\n      <td>NEW LICENSED ADVISOR - BA</td>\n      <td>a_3962657_PK02</td>\n      <td>3962657</td>\n      <td>a</td>\n    </tr>\n    <tr>\n      <th>2</th>\n      <td>4963665</td>\n      <td>A  AROCKIA MARY</td>\n      <td>SADAIAPPAN  KARTHIK(4817216)</td>\n      <td>ADVISOR - BA</td>\n      <td>a_3981218_TU02</td>\n      <td>3981218</td>\n      <td>a</td>\n    </tr>\n    <tr>\n      <th>3</th>\n      <td>4967656</td>\n      <td>A  ARUL ADAIKALARAJ</td>\n      <td>MALAYAN  MUTHULAKSHMI(4931636)</td>\n      <td>LIFE PLANNER</td>\n      <td>a_3962226_PY02</td>\n      <td>3962226</td>\n      <td>a</td>\n    </tr>\n    <tr>\n      <th>4</th>\n      <td>4736820</td>\n      <td>A  BALASUNDARAM</td>\n      <td>R R RAMESHBABU(495631)</td>\n      <td>LIFE PLANNER</td>\n      <td>a_3968386_MD02</td>\n      <td>3968386</td>\n      <td>a</td>\n    </tr>\n    <tr>\n      <th>...</th>\n      <td>...</td>\n      <td>...</td>\n      <td>...</td>\n      <td>...</td>\n      <td>...</td>\n      <td>...</td>\n      <td>...</td>\n    </tr>\n    <tr>\n      <th>68699</th>\n      <td>4667943</td>\n      <td>vaishali yogeshkumar vithalani</td>\n      <td>KETAN MAGANBHAI FALDU(4617848)</td>\n      <td>LIFE PLANNER</td>\n      <td>a_3966512_JG03</td>\n      <td>3966512</td>\n      <td>a</td>\n    </tr>\n    <tr>\n      <th>68700</th>\n      <td>4582463</td>\n      <td>vikeshkumar kanubhai patel</td>\n      <td>KRUTI JIGNESH MEHTA(4178370)</td>\n      <td>ADVISOR - BA</td>\n      <td>a_3977952_AH03</td>\n      <td>3977952</td>\n      <td>a</td>\n    </tr>\n    <tr>\n      <th>68701</th>\n      <td>4760205</td>\n      <td>vishakha balu bhosale</td>\n      <td>Agency Admin(agencyadmin)</td>\n      <td>ADVISOR - BA</td>\n      <td>a_3994008_MU34</td>\n      <td>3994008</td>\n      <td>a</td>\n    </tr>\n    <tr>\n      <th>68702</th>\n      <td>4498750</td>\n      <td>vithoba gabaji suryawanshi</td>\n      <td>GOUD SANTOSH SHANTILAL(186953)</td>\n      <td>ADVISOR - BA</td>\n      <td>a_3992817_NS02</td>\n      <td>3992817</td>\n      <td>a</td>\n    </tr>\n    <tr>\n      <th>68704</th>\n      <td>4795455</td>\n      <td>yogendra kumar sharma</td>\n      <td>NISHCHAY JAISWAL(4689796)</td>\n      <td>BUSINESS ASSOCIATE LEADER</td>\n      <td>a_3975071_JA01</td>\n      <td>3975071</td>\n      <td>a</td>\n    </tr>\n  </tbody>\n</table>\n<p>59979 rows × 7 columns</p>\n</div>"
     },
     "execution_count": 69,
     "metadata": {},
     "output_type": "execute_result"
    }
   ],
   "source": [
    "# df['Supervisor ID'].apply(lambda x: str(x).split('(')[0]).unique()\n",
    "# supervisorid NOT ZBH names either along with employee name.\n",
    "df"
   ],
   "metadata": {
    "collapsed": false,
    "pycharm": {
     "name": "#%%\n"
    }
   }
  },
  {
   "cell_type": "code",
   "execution_count": 72,
   "outputs": [
    {
     "name": "stderr",
     "output_type": "stream",
     "text": [
      "<ipython-input-72-fb119b83f842>:1: UserWarning: Boolean Series key will be reindexed to match DataFrame index.\n",
      "  final_map.drop_duplicates()[final_map['Channel']=='Agency']\n"
     ]
    },
    {
     "data": {
      "text/plain": "          User Channel                             ZH\n7574   4836442  Agency                    PANKAJ GERA\n7575   5037409  Agency                   YOGESH ANAND\n7576   4892127  Agency  SITAKANTA BIRESWARA MOHAPATRA\n7577   4974936  Agency                    PANKAJ GERA\n7578   4984973  Agency         Arunkumar  R  Krishnan\n...        ...     ...                            ...\n67548  4672061  Agency                Aswini Praharaj\n67549  4620274  Agency  SITAKANTA BIRESWARA MOHAPATRA\n67550  4935825  Agency                    PANKAJ GERA\n67551  4797428  Agency                Aswini Praharaj\n67561    empty  Agency                          empty\n\n[59979 rows x 3 columns]",
      "text/html": "<div>\n<style scoped>\n    .dataframe tbody tr th:only-of-type {\n        vertical-align: middle;\n    }\n\n    .dataframe tbody tr th {\n        vertical-align: top;\n    }\n\n    .dataframe thead th {\n        text-align: right;\n    }\n</style>\n<table border=\"1\" class=\"dataframe\">\n  <thead>\n    <tr style=\"text-align: right;\">\n      <th></th>\n      <th>User</th>\n      <th>Channel</th>\n      <th>ZH</th>\n    </tr>\n  </thead>\n  <tbody>\n    <tr>\n      <th>7574</th>\n      <td>4836442</td>\n      <td>Agency</td>\n      <td>PANKAJ GERA</td>\n    </tr>\n    <tr>\n      <th>7575</th>\n      <td>5037409</td>\n      <td>Agency</td>\n      <td>YOGESH ANAND</td>\n    </tr>\n    <tr>\n      <th>7576</th>\n      <td>4892127</td>\n      <td>Agency</td>\n      <td>SITAKANTA BIRESWARA MOHAPATRA</td>\n    </tr>\n    <tr>\n      <th>7577</th>\n      <td>4974936</td>\n      <td>Agency</td>\n      <td>PANKAJ GERA</td>\n    </tr>\n    <tr>\n      <th>7578</th>\n      <td>4984973</td>\n      <td>Agency</td>\n      <td>Arunkumar  R  Krishnan</td>\n    </tr>\n    <tr>\n      <th>...</th>\n      <td>...</td>\n      <td>...</td>\n      <td>...</td>\n    </tr>\n    <tr>\n      <th>67548</th>\n      <td>4672061</td>\n      <td>Agency</td>\n      <td>Aswini Praharaj</td>\n    </tr>\n    <tr>\n      <th>67549</th>\n      <td>4620274</td>\n      <td>Agency</td>\n      <td>SITAKANTA BIRESWARA MOHAPATRA</td>\n    </tr>\n    <tr>\n      <th>67550</th>\n      <td>4935825</td>\n      <td>Agency</td>\n      <td>PANKAJ GERA</td>\n    </tr>\n    <tr>\n      <th>67551</th>\n      <td>4797428</td>\n      <td>Agency</td>\n      <td>Aswini Praharaj</td>\n    </tr>\n    <tr>\n      <th>67561</th>\n      <td>empty</td>\n      <td>Agency</td>\n      <td>empty</td>\n    </tr>\n  </tbody>\n</table>\n<p>59979 rows × 3 columns</p>\n</div>"
     },
     "execution_count": 72,
     "metadata": {},
     "output_type": "execute_result"
    }
   ],
   "source": [
    "final_map.drop_duplicates()[final_map['Channel']=='Agency']"
   ],
   "metadata": {
    "collapsed": false,
    "pycharm": {
     "name": "#%%\n"
    }
   }
  },
  {
   "cell_type": "code",
   "execution_count": null,
   "outputs": [],
   "source": [],
   "metadata": {
    "collapsed": false,
    "pycharm": {
     "name": "#%%\n"
    }
   }
  }
 ],
 "metadata": {
  "kernelspec": {
   "display_name": "Python 3",
   "language": "python",
   "name": "python3"
  },
  "language_info": {
   "codemirror_mode": {
    "name": "ipython",
    "version": 2
   },
   "file_extension": ".py",
   "mimetype": "text/x-python",
   "name": "python",
   "nbconvert_exporter": "python",
   "pygments_lexer": "ipython2",
   "version": "2.7.6"
  }
 },
 "nbformat": 4,
 "nbformat_minor": 0
}